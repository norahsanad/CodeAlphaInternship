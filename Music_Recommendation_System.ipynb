{
  "nbformat": 4,
  "nbformat_minor": 0,
  "metadata": {
    "colab": {
      "provenance": []
    },
    "kernelspec": {
      "name": "python3",
      "display_name": "Python 3"
    },
    "language_info": {
      "name": "python"
    }
  },
  "cells": [
    {
      "cell_type": "code",
      "execution_count": 17,
      "metadata": {
        "colab": {
          "base_uri": "https://localhost:8080/"
        },
        "id": "CEg3Ain9LZzy",
        "outputId": "06deb9cd-5e2e-4fad-d7d4-38a36ed19cc3"
      },
      "outputs": [
        {
          "output_type": "stream",
          "name": "stdout",
          "text": [
            "Requirement already satisfied: numpy in /usr/local/lib/python3.10/dist-packages (1.25.2)\n",
            "Requirement already satisfied: pandas in /usr/local/lib/python3.10/dist-packages (2.0.3)\n",
            "Requirement already satisfied: scikit-learn in /usr/local/lib/python3.10/dist-packages (1.2.2)\n",
            "Requirement already satisfied: surprise in /usr/local/lib/python3.10/dist-packages (0.1)\n",
            "Requirement already satisfied: python-dateutil>=2.8.2 in /usr/local/lib/python3.10/dist-packages (from pandas) (2.8.2)\n",
            "Requirement already satisfied: pytz>=2020.1 in /usr/local/lib/python3.10/dist-packages (from pandas) (2023.4)\n",
            "Requirement already satisfied: tzdata>=2022.1 in /usr/local/lib/python3.10/dist-packages (from pandas) (2024.1)\n",
            "Requirement already satisfied: scipy>=1.3.2 in /usr/local/lib/python3.10/dist-packages (from scikit-learn) (1.11.4)\n",
            "Requirement already satisfied: joblib>=1.1.1 in /usr/local/lib/python3.10/dist-packages (from scikit-learn) (1.4.2)\n",
            "Requirement already satisfied: threadpoolctl>=2.0.0 in /usr/local/lib/python3.10/dist-packages (from scikit-learn) (3.5.0)\n",
            "Requirement already satisfied: scikit-surprise in /usr/local/lib/python3.10/dist-packages (from surprise) (1.1.4)\n",
            "Requirement already satisfied: six>=1.5 in /usr/local/lib/python3.10/dist-packages (from python-dateutil>=2.8.2->pandas) (1.16.0)\n"
          ]
        }
      ],
      "source": [
        "!pip install numpy pandas scikit-learn surprise"
      ]
    },
    {
      "cell_type": "code",
      "source": [
        "# Import necessary libraries\n",
        "import pandas as pd\n",
        "from surprise import Dataset, Reader, SVD\n",
        "from surprise.model_selection import train_test_split, cross_validate"
      ],
      "metadata": {
        "id": "3s4s7DqyTD21"
      },
      "execution_count": 18,
      "outputs": []
    },
    {
      "cell_type": "markdown",
      "source": [
        "# Section 1: Load Imaginary Data"
      ],
      "metadata": {
        "id": "qa3BfXBNPKQs"
      }
    },
    {
      "cell_type": "code",
      "source": [
        "def load_data():\n",
        "    \"\"\"\n",
        "    Create an imaginary dataset for testing.\n",
        "\n",
        "    Returns:\n",
        "        df (DataFrame): DataFrame containing the imaginary dataset with columns user_id, song_id, and rating.\n",
        "    \"\"\"\n",
        "    # Creating an imaginary dataset\n",
        "    data = {\n",
        "        'user_id': [1, 1, 1, 2, 2, 2, 3, 3, 3, 4, 4, 4, 5, 5, 5],\n",
        "        'song_id': [101, 102, 103, 101, 104, 105, 102, 103, 106, 104, 105, 106, 101, 105, 107],\n",
        "        'rating':  [5, 4, 3, 5, 4, 2, 3, 2, 4, 5, 3, 4, 2, 5, 4]\n",
        "    }\n",
        "\n",
        "    # Convert the dictionary to a pandas DataFrame\n",
        "    df = pd.DataFrame(data)\n",
        "\n",
        "    return df"
      ],
      "metadata": {
        "id": "nygaqFaaPNal"
      },
      "execution_count": 19,
      "outputs": []
    },
    {
      "cell_type": "markdown",
      "source": [
        "# Section 2: Prepare the Data for the Surprise Library"
      ],
      "metadata": {
        "id": "DrvzgB6jPfFN"
      }
    },
    {
      "cell_type": "code",
      "source": [
        "def prepare_data(df):\n",
        "    \"\"\"\n",
        "    Prepare the data for the Surprise library.\n",
        "\n",
        "    Args:\n",
        "        df (DataFrame): DataFrame containing the dataset with columns user_id, song_id, and rating.\n",
        "\n",
        "    Returns:\n",
        "        data (Dataset): Dataset object ready to be used by the Surprise library.\n",
        "    \"\"\"\n",
        "    # Define a Reader with the rating scale\n",
        "    reader = Reader(rating_scale=(df['rating'].min(), df['rating'].max()))\n",
        "\n",
        "    # Load the DataFrame into a Dataset object\n",
        "    data = Dataset.load_from_df(df[['user_id', 'song_id', 'rating']], reader)\n",
        "\n",
        "    return data"
      ],
      "metadata": {
        "id": "EQg9rgRnPe1l"
      },
      "execution_count": 20,
      "outputs": []
    },
    {
      "cell_type": "markdown",
      "source": [
        "# Section 3: Train the Model"
      ],
      "metadata": {
        "id": "HTf2yRyOQJuj"
      }
    },
    {
      "cell_type": "code",
      "source": [
        "def train_model(data):\n",
        "    \"\"\"\n",
        "    Train an SVD model using the Surprise library.\n",
        "\n",
        "    Args:\n",
        "        data (Dataset): Dataset object ready to be used by the Surprise library.\n",
        "\n",
        "    Returns:\n",
        "        algo (SVD): Trained SVD model.\n",
        "    \"\"\"\n",
        "    # Split the data into training and test sets\n",
        "    trainset, testset = train_test_split(data, test_size=0.25)\n",
        "\n",
        "    # Initialize the SVD algorithm\n",
        "    algo = SVD()\n",
        "\n",
        "    # Train the model on the training set\n",
        "    algo.fit(trainset)\n",
        "\n",
        "    # Evaluate the model using cross-validation\n",
        "    cross_validate(algo, data, measures=['RMSE', 'MAE'], cv=5, verbose=True)\n",
        "\n",
        "    return algo"
      ],
      "metadata": {
        "id": "gZipxv0hQMVA"
      },
      "execution_count": 21,
      "outputs": []
    },
    {
      "cell_type": "markdown",
      "source": [
        "# Section 4: Get Song Recommendations for a User"
      ],
      "metadata": {
        "id": "E3zpLPpaQRbW"
      }
    },
    {
      "cell_type": "code",
      "source": [
        "def get_recommendations(algo, user_id, df, num_recommendations=10):\n",
        "    \"\"\"\n",
        "    Get song recommendations for a specific user.\n",
        "\n",
        "    Args:\n",
        "        algo (SVD): Trained SVD model.\n",
        "        user_id (int): ID of the user for whom to get recommendations.\n",
        "        df (DataFrame): DataFrame containing the dataset with columns user_id, song_id, and rating.\n",
        "        num_recommendations (int): Number of recommendations to return.\n",
        "\n",
        "    Returns:\n",
        "        recommendations (list): List of tuples containing song_id and predicted rating.\n",
        "    \"\"\"\n",
        "    # Get all unique song IDs\n",
        "    all_songs = df['song_id'].unique()\n",
        "\n",
        "    # Get the songs rated by the user\n",
        "    user_songs = df[df['user_id'] == user_id]['song_id'].unique()\n",
        "\n",
        "    # Get the songs not rated by the user\n",
        "    songs_to_predict = [song for song in all_songs if song not in user_songs]\n",
        "\n",
        "    # Predict ratings for the songs not rated by the user\n",
        "    predictions = []\n",
        "    for song_id in songs_to_predict:\n",
        "        predictions.append((song_id, algo.predict(user_id, song_id).est))\n",
        "\n",
        "    # Sort the predictions by the predicted rating in descending order\n",
        "    recommendations = sorted(predictions, key=lambda x: x[1], reverse=True)[:num_recommendations]\n",
        "\n",
        "    return recommendations"
      ],
      "metadata": {
        "id": "bkOM5aavQRN2"
      },
      "execution_count": 22,
      "outputs": []
    },
    {
      "cell_type": "markdown",
      "source": [
        "# Section 5: Main Function"
      ],
      "metadata": {
        "id": "l15xtTQ7S9cs"
      }
    },
    {
      "cell_type": "code",
      "source": [
        "def main():\n",
        "    \"\"\"\n",
        "    Main function to orchestrate the data loading, model training, and recommendation generation processes.\n",
        "    \"\"\"\n",
        "    # Load the imaginary data\n",
        "    df = load_data()\n",
        "\n",
        "    # Prepare the data for the Surprise library\n",
        "    data = prepare_data(df)\n",
        "\n",
        "    # Train the SVD model\n",
        "    algo = train_model(data)\n",
        "\n",
        "    # Example: Get recommendations for user with ID 1\n",
        "    user_id = 1\n",
        "    recommendations = get_recommendations(algo, user_id, df)\n",
        "\n",
        "    # Print the top recommendations\n",
        "    print(f\"Top recommendations for user {user_id}:\")\n",
        "    for song_id, score in recommendations:\n",
        "        print(f\"Song ID: {song_id}, Predicted Rating: {score:.2f}\")\n",
        "\n",
        "# Execute the main function\n",
        "if __name__ == \"__main__\":\n",
        "    main()"
      ],
      "metadata": {
        "colab": {
          "base_uri": "https://localhost:8080/"
        },
        "id": "4X8_X8O7S8Lu",
        "outputId": "98d7cb4f-483f-4ebe-cf71-9c2da32ecb4d"
      },
      "execution_count": 23,
      "outputs": [
        {
          "output_type": "stream",
          "name": "stdout",
          "text": [
            "Evaluating RMSE, MAE of algorithm SVD on 5 split(s).\n",
            "\n",
            "                  Fold 1  Fold 2  Fold 3  Fold 4  Fold 5  Mean    Std     \n",
            "RMSE (testset)    1.2749  1.0600  1.1528  1.4611  1.4207  1.2739  0.1530  \n",
            "MAE (testset)     1.2392  0.8555  0.8578  1.2689  1.3153  1.1073  0.2061  \n",
            "Fit time          0.00    0.00    0.00    0.00    0.00    0.00    0.00    \n",
            "Test time         0.00    0.00    0.00    0.00    0.00    0.00    0.00    \n",
            "Top recommendations for user 1:\n",
            "Song ID: 106, Predicted Rating: 3.70\n",
            "Song ID: 104, Predicted Rating: 3.56\n",
            "Song ID: 107, Predicted Rating: 3.44\n",
            "Song ID: 105, Predicted Rating: 3.44\n"
          ]
        }
      ]
    }
  ]
}